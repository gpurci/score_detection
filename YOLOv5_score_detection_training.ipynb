{
  "cells": [
    {
      "cell_type": "markdown",
      "metadata": {
        "id": "hrsaDfdVHzxt"
      },
      "source": [
        "# Custom Training with YOLOv5\n",
        "\n",
        "In this project, we assemble a dataset and train a custom YOLOv5 model to recognize the score in our dataset. To do so we will take the following steps:\n",
        "\n",
        "* Gather a dataset of images and label our dataset\n",
        "* Export our dataset to YOLOv5\n",
        "* Train YOLOv5 to recognize the objects in our dataset\n",
        "* Evaluate our YOLOv5 model's performance\n",
        "* Run test inference to view our model at work\n"
      ]
    },
    {
      "cell_type": "markdown",
      "metadata": {
        "id": "yNveqeA1KXGy"
      },
      "source": [
        "#Install Requirements"
      ]
    },
    {
      "cell_type": "code",
      "execution_count": null,
      "metadata": {
        "colab": {
          "base_uri": "https://localhost:8080/"
        },
        "id": "WZzCUVOXmz_U",
        "outputId": "20f1c317-50dc-4fc4-c987-36a8e11b20d1"
      },
      "outputs": [
        {
          "output_type": "stream",
          "name": "stdout",
          "text": [
            "Cloning into 'ImageAugmentation'...\n",
            "remote: Enumerating objects: 55, done.\u001b[K\n",
            "remote: Counting objects: 100% (55/55), done.\u001b[K\n",
            "remote: Compressing objects: 100% (53/53), done.\u001b[K\n",
            "remote: Total 55 (delta 27), reused 0 (delta 0), pack-reused 0\u001b[K\n",
            "Unpacking objects: 100% (55/55), done.\n"
          ]
        }
      ],
      "source": [
        "#clone augmentation class\n",
        "!git clone https://github.com/gpurci/ImageAugmentation"
      ]
    },
    {
      "cell_type": "code",
      "execution_count": null,
      "metadata": {
        "colab": {
          "base_uri": "https://localhost:8080/"
        },
        "id": "kTvDNSILZoN9",
        "outputId": "018b95ab-f853-4062-d432-35489f99040f"
      },
      "outputs": [
        {
          "output_type": "stream",
          "name": "stdout",
          "text": [
            "Cloning into 'yolov5'...\n",
            "remote: Enumerating objects: 14400, done.\u001b[K\n",
            "remote: Counting objects: 100% (29/29), done.\u001b[K\n",
            "remote: Compressing objects: 100% (22/22), done.\u001b[K\n",
            "remote: Total 14400 (delta 14), reused 16 (delta 6), pack-reused 14371\u001b[K\n",
            "Receiving objects: 100% (14400/14400), 13.61 MiB | 22.59 MiB/s, done.\n",
            "Resolving deltas: 100% (9908/9908), done.\n",
            "/content/yolov5\n",
            "\u001b[K     |████████████████████████████████| 182 kB 14.5 MB/s \n",
            "\u001b[K     |████████████████████████████████| 62 kB 681 kB/s \n",
            "\u001b[K     |████████████████████████████████| 1.6 MB 51.2 MB/s \n",
            "\u001b[K     |████████████████████████████████| 42 kB 841 kB/s \n",
            "\u001b[K     |████████████████████████████████| 54 kB 1.0 MB/s \n",
            "\u001b[K     |████████████████████████████████| 145 kB 61.9 MB/s \n",
            "\u001b[K     |████████████████████████████████| 178 kB 54.9 MB/s \n",
            "\u001b[K     |████████████████████████████████| 67 kB 6.1 MB/s \n",
            "\u001b[K     |████████████████████████████████| 138 kB 47.5 MB/s \n",
            "\u001b[K     |████████████████████████████████| 62 kB 1.8 MB/s \n",
            "\u001b[?25h  Building wheel for wget (setup.py) ... \u001b[?25l\u001b[?25hdone\n"
          ]
        }
      ],
      "source": [
        "#clone YOLOv5 and \n",
        "!git clone https://github.com/ultralytics/yolov5  # clone repo\n",
        "%cd yolov5\n",
        "%pip install -qr requirements.txt # install dependencies\n",
        "%pip install -q roboflow\n"
      ]
    },
    {
      "cell_type": "code",
      "execution_count": null,
      "metadata": {
        "colab": {
          "base_uri": "https://localhost:8080/"
        },
        "id": "W4boSrYGuep3",
        "outputId": "f7205271-f0ff-4fa2-e94f-3b3b47201558"
      },
      "outputs": [
        {
          "output_type": "stream",
          "name": "stdout",
          "text": [
            "Looking in indexes: https://pypi.org/simple, https://us-python.pkg.dev/colab-wheels/public/simple/\n",
            "Collecting livelossplot\n",
            "  Downloading livelossplot-0.5.5-py3-none-any.whl (22 kB)\n",
            "Requirement already satisfied: matplotlib in /usr/local/lib/python3.8/dist-packages (from livelossplot) (3.2.2)\n",
            "Requirement already satisfied: bokeh in /usr/local/lib/python3.8/dist-packages (from livelossplot) (2.3.3)\n",
            "Requirement already satisfied: tornado>=5.1 in /usr/local/lib/python3.8/dist-packages (from bokeh->livelossplot) (6.0.4)\n",
            "Requirement already satisfied: python-dateutil>=2.1 in /usr/local/lib/python3.8/dist-packages (from bokeh->livelossplot) (2.8.2)\n",
            "Requirement already satisfied: pillow>=7.1.0 in /usr/local/lib/python3.8/dist-packages (from bokeh->livelossplot) (7.1.2)\n",
            "Requirement already satisfied: typing-extensions>=3.7.4 in /usr/local/lib/python3.8/dist-packages (from bokeh->livelossplot) (4.4.0)\n",
            "Requirement already satisfied: packaging>=16.8 in /usr/local/lib/python3.8/dist-packages (from bokeh->livelossplot) (21.3)\n",
            "Requirement already satisfied: numpy>=1.11.3 in /usr/local/lib/python3.8/dist-packages (from bokeh->livelossplot) (1.21.6)\n",
            "Requirement already satisfied: PyYAML>=3.10 in /usr/local/lib/python3.8/dist-packages (from bokeh->livelossplot) (6.0)\n",
            "Requirement already satisfied: Jinja2>=2.9 in /usr/local/lib/python3.8/dist-packages (from bokeh->livelossplot) (2.11.3)\n",
            "Requirement already satisfied: MarkupSafe>=0.23 in /usr/local/lib/python3.8/dist-packages (from Jinja2>=2.9->bokeh->livelossplot) (2.0.1)\n",
            "Requirement already satisfied: pyparsing!=3.0.5,>=2.0.2 in /usr/local/lib/python3.8/dist-packages (from packaging>=16.8->bokeh->livelossplot) (2.4.7)\n",
            "Requirement already satisfied: six>=1.5 in /usr/local/lib/python3.8/dist-packages (from python-dateutil>=2.1->bokeh->livelossplot) (1.15.0)\n",
            "Requirement already satisfied: cycler>=0.10 in /usr/local/lib/python3.8/dist-packages (from matplotlib->livelossplot) (0.10.0)\n",
            "Requirement already satisfied: kiwisolver>=1.0.1 in /usr/local/lib/python3.8/dist-packages (from matplotlib->livelossplot) (1.4.4)\n",
            "Installing collected packages: livelossplot\n",
            "Successfully installed livelossplot-0.5.5\n"
          ]
        }
      ],
      "source": [
        "!pip install livelossplot"
      ]
    },
    {
      "cell_type": "markdown",
      "metadata": {
        "id": "Ke8C3U0JID_D"
      },
      "source": [
        "#Install Library"
      ]
    },
    {
      "cell_type": "code",
      "execution_count": null,
      "metadata": {
        "colab": {
          "base_uri": "https://localhost:8080/"
        },
        "id": "xbs0RPGsIIpk",
        "outputId": "55a78049-f82c-4c6f-c53c-e3ca85b8ddde"
      },
      "outputs": [
        {
          "output_type": "stream",
          "name": "stdout",
          "text": [
            "Setup complete. Using torch 1.13.0+cu116 (Tesla T4)\n"
          ]
        }
      ],
      "source": [
        "import torch\n",
        "import os\n",
        "from IPython.display import Image, clear_output  # to display images\n",
        "\n",
        "print(f\"Setup complete. Using torch {torch.__version__} ({torch.cuda.get_device_properties(0).name if torch.cuda.is_available() else 'CPU'})\")"
      ]
    },
    {
      "cell_type": "code",
      "execution_count": null,
      "metadata": {
        "id": "mK8wwrby6glw"
      },
      "outputs": [],
      "source": [
        "import re\n",
        "from google.colab import files"
      ]
    },
    {
      "cell_type": "code",
      "execution_count": null,
      "metadata": {
        "id": "OnstVB3JR03u"
      },
      "outputs": [],
      "source": [
        "# importing cv2 \n",
        "import cv2\n",
        "from matplotlib import pyplot as plt\n",
        "from numpy.fft import fft2, ifft2\n",
        "import math\n",
        "import numpy as np\n",
        "import pandas as pd\n",
        "import shutil\n",
        "from roboflow import Roboflow"
      ]
    },
    {
      "cell_type": "code",
      "execution_count": null,
      "metadata": {
        "id": "7HIJcoGkm6Qt"
      },
      "outputs": [],
      "source": [
        "#import augmentation class\n",
        "from ImageAugmentation.image_augmentation import AugmentImage"
      ]
    },
    {
      "cell_type": "code",
      "execution_count": null,
      "metadata": {
        "id": "205v4kInscXd"
      },
      "outputs": [],
      "source": [
        "\n",
        "import tensorflow as tf\n",
        "from tensorflow import keras\n",
        "from tensorflow.keras import layers\n",
        "from tensorflow.keras import Input, Model"
      ]
    },
    {
      "cell_type": "code",
      "execution_count": null,
      "metadata": {
        "id": "aEyRX6I0umNW"
      },
      "outputs": [],
      "source": [
        "\n",
        "from livelossplot import PlotLossesKerasTF"
      ]
    },
    {
      "cell_type": "markdown",
      "source": [
        "#Calibration"
      ],
      "metadata": {
        "id": "IuBLqVyxoshK"
      }
    },
    {
      "cell_type": "code",
      "source": [
        "SIZE_ROW_IMG = 416\n",
        "\n",
        "DECT_OBJ_IMG_WIDTH = 110\n",
        "DECT_OBJ_IMG_HEIGHT = 20\n",
        "DECT_OBJ_IMG_CHANNEL = 3\n",
        "\n",
        "SCORE_DETECTION_CLASS_NAME = ['0', '1', '2', '3', '4', '5', '6', 'L']"
      ],
      "metadata": {
        "id": "HWqUJJCypGvL"
      },
      "execution_count": null,
      "outputs": []
    },
    {
      "cell_type": "markdown",
      "metadata": {
        "id": "Tqa3d1pb-pFQ"
      },
      "source": [
        "#Functions"
      ]
    },
    {
      "cell_type": "code",
      "execution_count": null,
      "metadata": {
        "id": "A0Ew3Z_e-sym"
      },
      "outputs": [],
      "source": [
        "def find_file_by_ext(path, ext):\n",
        "  dict_data = {}\n",
        "  for root, dirs, files in os.walk(path):\n",
        "    for file in files:\n",
        "      if file.endswith(ext):\n",
        "        dict_data[os.path.splitext(file)[0]] = root\n",
        "  return dict_data\n"
      ]
    },
    {
      "cell_type": "code",
      "execution_count": null,
      "metadata": {
        "id": "pFxu9ZxmaxeT"
      },
      "outputs": [],
      "source": [
        "def get_lst_file_by_ext(path, ext):\n",
        "  lst_filename = []\n",
        "  for root, dirs, files in os.walk(path):\n",
        "    for file in files:\n",
        "      if file.endswith(ext):\n",
        "        lst_filename.append('{}/{}'.format(root, file))\n",
        "  return lst_filename\n"
      ]
    },
    {
      "cell_type": "code",
      "execution_count": null,
      "metadata": {
        "id": "nRefa49_HTUr"
      },
      "outputs": [],
      "source": [
        "def createDirectory(path):\n",
        "  # checking if the directory demo_folder \n",
        "  # exist or not\n",
        "  if not os.path.exists(path):\n",
        "    # if the demo_folder directory is not present \n",
        "    # then create it\n",
        "    os.makedirs(path)"
      ]
    },
    {
      "cell_type": "markdown",
      "metadata": {
        "id": "zP6USLgz2f0r"
      },
      "source": [
        "# Assemble Dataset\n",
        "\n",
        "In order to train our custom model, we need to assemble a dataset of representative images with bounding box annotations around the scores that we want to detect. And we need our dataset to be in YOLOv5 format.\n",
        "\n",
        "In Roboflow, we can choose between two paths:\n",
        "\n",
        "* Convert an existing dataset to YOLOv5 format. Roboflow supports over [30 formats object detection formats](https://roboflow.com/formats) for conversion.\n",
        "* Upload raw images and annotate them in Roboflow with [Roboflow Annotate](https://docs.roboflow.com/annotate).\n",
        "\n"
      ]
    },
    {
      "cell_type": "code",
      "execution_count": null,
      "metadata": {
        "id": "R2wGvjd4Z_92"
      },
      "outputs": [],
      "source": [
        "def doAugmentedImage():\n",
        "  rf = Roboflow(model_format=\"yolov5\", notebook=\"ultralytics\")\n",
        "  #after following the link above, recieve python code with these fields filled in\n",
        "  rf = Roboflow(api_key=\"L74r4HoRJrzqgK7mAWKk\")\n",
        "  # set up environment\n",
        "  os.environ[\"DATASET_DIRECTORY\"] = \"/content/datasets\"\n",
        "  #get project digitalizare_note from roboflow\n",
        "  project = rf.workspace().project(\"digitalizare_note\")\n",
        "  #get first version project\n",
        "  dataset = project.version(\"1\")\n",
        "  #dowloand augmented data\n",
        "  dataset = dataset.download(\"yolov5\")\n",
        "  return dataset"
      ]
    },
    {
      "cell_type": "code",
      "execution_count": null,
      "metadata": {
        "colab": {
          "base_uri": "https://localhost:8080/"
        },
        "id": "p1lDKodWncF0",
        "outputId": "439fdaea-32a2-4dd6-ec4c-10367d47c0f7"
      },
      "outputs": [
        {
          "output_type": "execute_result",
          "data": {
            "text/plain": [
              "'try:\\n    shutil.rmtree(\\'/content/yolov5/runs\\')\\nexcept OSError as e:\\n    print (\"Error: %s - %s.\" % (e.filename, e.strerror))\\n'"
            ],
            "application/vnd.google.colaboratory.intrinsic+json": {
              "type": "string"
            }
          },
          "metadata": {},
          "execution_count": 14
        }
      ],
      "source": [
        "'''try:\n",
        "    shutil.rmtree('/content/yolov5/runs')\n",
        "except OSError as e:\n",
        "    print (\"Error: %s - %s.\" % (e.filename, e.strerror))\n",
        "''' "
      ]
    },
    {
      "cell_type": "code",
      "execution_count": null,
      "metadata": {
        "colab": {
          "base_uri": "https://localhost:8080/"
        },
        "id": "rBbPQI4RnAip",
        "outputId": "25f4b6fa-8732-410e-cc47-63bb4b34ad00"
      },
      "outputs": [
        {
          "output_type": "stream",
          "name": "stdout",
          "text": [
            "upload and label your dataset, and get an API KEY here: https://app.roboflow.com/?model=yolov5&ref=ultralytics\n",
            "loading Roboflow workspace...\n",
            "loading Roboflow project...\n",
            "Downloading Dataset Version Zip in /content/datasets/digitalizare_note-1 to yolov5pytorch: 100% [379092 / 379092] bytes\n"
          ]
        },
        {
          "output_type": "stream",
          "name": "stderr",
          "text": [
            "Extracting Dataset Version Zip to /content/datasets/digitalizare_note-1 in yolov5pytorch:: 100%|██████████| 46/46 [00:00<00:00, 5777.97it/s]\n"
          ]
        }
      ],
      "source": [
        "dataset = doAugmentedImage()"
      ]
    },
    {
      "cell_type": "markdown",
      "metadata": {
        "id": "Dq-4iLwP97TU"
      },
      "source": [
        "#Data labeling"
      ]
    },
    {
      "cell_type": "code",
      "execution_count": null,
      "metadata": {
        "id": "2MsCmjTy-AQo"
      },
      "outputs": [],
      "source": [
        "file_score = '''20201104_175012.jpg 4 0 0 4 1 0 3\n",
        "20201104_175019.jpg 4 5 1 6 2 2 4\n",
        "20201104_175025.jpg 4 5 1 2 2 1 3\n",
        "20201104_175030.jpg 4 5 1 6 2 1 2\n",
        "20201104_175035.jpg 4 0 1 2 0 0 1\n",
        "20201104_175039.jpg 2 0 1 4 1 2 L\n",
        "20201104_175043.jpg 2 5 0 2 0 0 L\n",
        "20201104_175047.jpg 3 4 1 2 2 0 1\n",
        "20201104_175053.jpg 4 0 0 4 1 2 L\n",
        "20201104_175058.jpg 4 5 1 2 0 2 0\n",
        "20201104_175102.jpg 4 5 0 2 1 0 4\n",
        "20201104_175105.jpg 2 2 0 2 0 2 L\n",
        "20201104_175130.jpg 4 0 1 6 2 2 6\n",
        "20201104_175133.jpg 4 5 0 0 1 2 L\n",
        "20201104_175138.jpg 4 0 1 2 0 2 L\n",
        "20201104_175142.jpg 4 0 0 4 0 2 4\n",
        "20201104_175148.jpg 4 4 1 2 1 0 L'''\n",
        "\n",
        "reObjScore = re.compile(r\"(?P<filename>\\S+)\\.jpg(?P<score>(\\s+(\\S+))+)\")\n",
        "def getScore():\n",
        "  dict_score = {}\n",
        "  for line in file_score.split('\\n'):\n",
        "    reScore = reObjScore.match(line)\n",
        "    dict_score[reScore.group('filename')] = reScore.group('score').strip().split(' ')\n",
        "  return dict_score"
      ]
    },
    {
      "cell_type": "code",
      "execution_count": null,
      "metadata": {
        "id": "8RKUjQY9-Tlg"
      },
      "outputs": [],
      "source": [
        "reObjLabel = re.compile(r\"(?P<label>\\S+) (?P<center_x>\\S+) (?P<center_y>\\S+) (?P<w>\\S+) (?P<h>\\S+)\")\n",
        "def readLabels(filename, width, height):\n",
        "  f = open(filename, \"r\")\n",
        "  lst_x0 = []\n",
        "  lst_y0 = []\n",
        "  lst_x1 = []\n",
        "  lst_y1 = []\n",
        "  for line in f:\n",
        "    reLabel = reObjLabel.match(line)\n",
        "    center_x = int(float(reLabel.group('center_x'))*width)\n",
        "    center_y = int(float(reLabel.group('center_y'))*height)\n",
        "    w = int(float(reLabel.group('w'))*width)\n",
        "    h = int(float(reLabel.group('h'))*height)\n",
        "    x = int(center_x - w/2)\n",
        "    y = int(center_y - h/2)\n",
        "    lst_x0.append(x)\n",
        "    lst_y0.append(y)\n",
        "    lst_x1.append(x + w)\n",
        "    lst_y1.append(y + h)\n",
        "  f.close()\n",
        "  return lst_x0, lst_y0, lst_x1, lst_y1\n"
      ]
    },
    {
      "cell_type": "code",
      "execution_count": null,
      "metadata": {
        "id": "laOehUaZ-fsz"
      },
      "outputs": [],
      "source": [
        "def findIndex(lst_file, filename):\n",
        "  for file in lst_file:\n",
        "    if (file in filename) == True:\n",
        "      return file\n",
        "  return 'UNK'"
      ]
    },
    {
      "cell_type": "code",
      "execution_count": null,
      "metadata": {
        "id": "pHe-RRkD-1Zs"
      },
      "outputs": [],
      "source": [
        "def getLabels(path):\n",
        "  dict_score = getScore()\n",
        "  lst_score_file = list(dict_score.keys())\n",
        "  dict_data = find_file_by_ext(path, '.txt')\n",
        "  dict_obj_classified = {}\n",
        "  for key in dict_data:\n",
        "    filename = '{}/{}.{}'.format(dict_data[key], key, 'txt')\n",
        "    key_score = findIndex(lst_score_file, key)\n",
        "    lst_x0, lst_y0, lst_x1, lst_y1 = readLabels(filename, width=416, height=416)\n",
        "    dict_obj_classified[key_score] = {'score': dict_score[key_score], 'x0': lst_x0, 'y0': lst_y0, 'x1': lst_x1, 'y1': lst_y1}\n",
        "  return dict_obj_classified\n",
        "\n"
      ]
    },
    {
      "cell_type": "code",
      "execution_count": null,
      "metadata": {
        "id": "kMhLQk-8JxVu"
      },
      "outputs": [],
      "source": [
        "def getUniqueScore():\n",
        "  lst_score = []\n",
        "  dict_score = getScore()\n",
        "  for key in dict_score:\n",
        "    lst_score.extend(dict_score[key])\n",
        "\n",
        "  unique_score = np.unique(np.array(lst_score))\n",
        "  return unique_score"
      ]
    },
    {
      "cell_type": "code",
      "execution_count": null,
      "metadata": {
        "id": "JZLuGJ9-ZGDf"
      },
      "outputs": [],
      "source": [
        "\n",
        "path = \"/content/datasets/digitalizare_note-1/train\"\n",
        "dict_obj_classified_train = getLabels(path)"
      ]
    },
    {
      "cell_type": "code",
      "execution_count": null,
      "metadata": {
        "id": "KEFUAhkCZFWv"
      },
      "outputs": [],
      "source": [
        "\n",
        "path = \"/content/datasets/digitalizare_note-1/test\"\n",
        "dict_obj_classified_test = getLabels(path)"
      ]
    },
    {
      "cell_type": "code",
      "execution_count": null,
      "metadata": {
        "id": "CfGRmU8aAwf_"
      },
      "outputs": [],
      "source": [
        "\n",
        "path = \"/content/datasets/digitalizare_note-1/valid\"\n",
        "dict_obj_classified_valid = getLabels(path)"
      ]
    },
    {
      "cell_type": "markdown",
      "metadata": {
        "id": "YT3cWAuLRYvr"
      },
      "source": [
        "#Image augmentation"
      ]
    },
    {
      "cell_type": "code",
      "execution_count": null,
      "metadata": {
        "id": "nywX6HVP0Vse"
      },
      "outputs": [],
      "source": [
        "aug_img  = AugmentImage()\n",
        "aug_img.setRotationAngel(-5., 5.)"
      ]
    },
    {
      "cell_type": "code",
      "execution_count": null,
      "metadata": {
        "id": "CgMzC6bA7DLp"
      },
      "outputs": [],
      "source": [
        "\n",
        "def roboflow_data_augmentation(path, nbr_gen_for_sample):\n",
        "  dict_data_f = find_file_by_ext(path, '.jpg')\n",
        "  dict_data_t = find_file_by_ext(path, '.txt')\n",
        "  pd_df_data = pd.DataFrame({'F':dict_data_f, 'T':dict_data_t})\n",
        "  \n",
        "  size_ = pd_df_data.shape[0]\n",
        "  for i in range(size_):\n",
        "    for j in range(i*nbr_gen_for_sample, (i+1)*nbr_gen_for_sample):\n",
        "      name_ = pd_df_data.index[i].split('.')[0]\n",
        "\n",
        "      src_t = '{}/{}{}'.format(pd_df_data['T'][i], pd_df_data.index[i], '.txt')\n",
        "      dst_t = '{}/{}_gen_{}{}'.format(pd_df_data['T'][i], name_, j, '.txt')\n",
        "\n",
        "      src_f = '{}/{}{}'.format(pd_df_data['F'][i], pd_df_data.index[i], '.jpg')\n",
        "      dst_f = '{}/{}_gen_{}{}'.format(pd_df_data['F'][i], name_, j, '.jpg')\n",
        "      #print('Target  src {}\\nTarget  dst {}'.format(src_t, dst_t))\n",
        "      #print('Feature src {}\\nFeature dst {}'.format(src_f, dst_f))\n",
        "      lst_generated_file.append(dst_t)\n",
        "      lst_generated_file.append(dst_f)\n",
        "      shutil.copy(src_t, dst_t)\n",
        "      np_img = np.array(cv2.imread(src_f, cv2.IMREAD_COLOR))\n",
        "      idx_img_gen = np.random.randint(low=0, high=3, size=1)[0]\n",
        "      np_gen_img = aug_img.getAugmentFunc(idx_img_gen)(np_img)\n",
        "      cv2.imwrite(dst_f, np_gen_img)\n"
      ]
    },
    {
      "cell_type": "code",
      "execution_count": null,
      "metadata": {
        "id": "epu1mv_LGpyQ"
      },
      "outputs": [],
      "source": [
        "lst_generated_file = []\n",
        "path = \"/content/datasets/digitalizare_note-1/test\"\n",
        "nbr_gen_for_sample = 900\n",
        "roboflow_data_augmentation(path, nbr_gen_for_sample)"
      ]
    },
    {
      "cell_type": "code",
      "execution_count": null,
      "metadata": {
        "id": "V7QHuWhovdR3"
      },
      "outputs": [],
      "source": [
        "lst_generated_file = []\n",
        "path = \"/content/datasets/digitalizare_note-1/train\"\n",
        "nbr_gen_for_sample = 3000\n",
        "roboflow_data_augmentation(path, nbr_gen_for_sample)"
      ]
    },
    {
      "cell_type": "code",
      "execution_count": null,
      "metadata": {
        "id": "eXtnsrwivnpR"
      },
      "outputs": [],
      "source": [
        "lst_generated_file = []\n",
        "path = \"/content/datasets/digitalizare_note-1/valid\"\n",
        "nbr_gen_for_sample = 900\n",
        "roboflow_data_augmentation(path, nbr_gen_for_sample)"
      ]
    },
    {
      "cell_type": "markdown",
      "metadata": {
        "id": "X7yAi9hd-T4B"
      },
      "source": [
        "# Train YOLOv5 model\n",
        "\n",
        "Here, we are able to pass a number of arguments:\n",
        "- **img:** define input image size\n",
        "- **batch:** determine batch size\n",
        "- **epochs:** define the number of training epochs. (Note: often, 3000+ are common here!)\n",
        "- **data:** Our dataset locaiton is saved in the `dataset.location`\n",
        "- **weights:** specify a path to weights to start transfer learning from. Here we choose the generic COCO pretrained checkpoint.\n",
        "- **cache:** cache images for faster training"
      ]
    },
    {
      "cell_type": "code",
      "execution_count": null,
      "metadata": {
        "id": "eaFNnxLJbq4J",
        "colab": {
          "base_uri": "https://localhost:8080/"
        },
        "outputId": "81fd07d0-ed45-47f1-d471-3fb40a06005a"
      },
      "outputs": [
        {
          "output_type": "stream",
          "name": "stdout",
          "text": [
            "\u001b[34m\u001b[1mtrain: \u001b[0mweights=yolov5s.pt, cfg=, data=/content/datasets/digitalizare_note-1/data.yaml, hyp=data/hyps/hyp.scratch-low.yaml, epochs=15, batch_size=16, imgsz=416, rect=False, resume=False, nosave=False, noval=False, noautoanchor=False, noplots=False, evolve=None, bucket=, cache=ram, image_weights=False, device=, multi_scale=False, single_cls=False, optimizer=SGD, sync_bn=False, workers=8, project=runs/train, name=exp, exist_ok=False, quad=False, cos_lr=False, label_smoothing=0.0, patience=100, freeze=[0], save_period=-1, seed=0, local_rank=-1, entity=None, upload_dataset=False, bbox_interval=-1, artifact_alias=latest\n",
            "\u001b[34m\u001b[1mgithub: \u001b[0mup to date with https://github.com/ultralytics/yolov5 ✅\n",
            "YOLOv5 🚀 v7.0-27-g454dae1 Python-3.8.16 torch-1.13.0+cu116 CUDA:0 (Tesla T4, 15110MiB)\n",
            "\n",
            "\u001b[34m\u001b[1mhyperparameters: \u001b[0mlr0=0.01, lrf=0.01, momentum=0.937, weight_decay=0.0005, warmup_epochs=3.0, warmup_momentum=0.8, warmup_bias_lr=0.1, box=0.05, cls=0.5, cls_pw=1.0, obj=1.0, obj_pw=1.0, iou_t=0.2, anchor_t=4.0, fl_gamma=0.0, hsv_h=0.015, hsv_s=0.7, hsv_v=0.4, degrees=0.0, translate=0.1, scale=0.5, shear=0.0, perspective=0.0, flipud=0.0, fliplr=0.5, mosaic=1.0, mixup=0.0, copy_paste=0.0\n",
            "\u001b[34m\u001b[1mClearML: \u001b[0mrun 'pip install clearml' to automatically track, visualize and remotely train YOLOv5 🚀 in ClearML\n",
            "\u001b[34m\u001b[1mComet: \u001b[0mrun 'pip install comet_ml' to automatically track and visualize YOLOv5 🚀 runs in Comet\n",
            "\u001b[34m\u001b[1mTensorBoard: \u001b[0mStart with 'tensorboard --logdir runs/train', view at http://localhost:6006/\n",
            "Overriding model.yaml nc=80 with nc=1\n",
            "\n",
            "                 from  n    params  module                                  arguments                     \n",
            "  0                -1  1      3520  models.common.Conv                      [3, 32, 6, 2, 2]              \n",
            "  1                -1  1     18560  models.common.Conv                      [32, 64, 3, 2]                \n",
            "  2                -1  1     18816  models.common.C3                        [64, 64, 1]                   \n",
            "  3                -1  1     73984  models.common.Conv                      [64, 128, 3, 2]               \n",
            "  4                -1  2    115712  models.common.C3                        [128, 128, 2]                 \n",
            "  5                -1  1    295424  models.common.Conv                      [128, 256, 3, 2]              \n",
            "  6                -1  3    625152  models.common.C3                        [256, 256, 3]                 \n",
            "  7                -1  1   1180672  models.common.Conv                      [256, 512, 3, 2]              \n",
            "  8                -1  1   1182720  models.common.C3                        [512, 512, 1]                 \n",
            "  9                -1  1    656896  models.common.SPPF                      [512, 512, 5]                 \n",
            " 10                -1  1    131584  models.common.Conv                      [512, 256, 1, 1]              \n",
            " 11                -1  1         0  torch.nn.modules.upsampling.Upsample    [None, 2, 'nearest']          \n",
            " 12           [-1, 6]  1         0  models.common.Concat                    [1]                           \n",
            " 13                -1  1    361984  models.common.C3                        [512, 256, 1, False]          \n",
            " 14                -1  1     33024  models.common.Conv                      [256, 128, 1, 1]              \n",
            " 15                -1  1         0  torch.nn.modules.upsampling.Upsample    [None, 2, 'nearest']          \n",
            " 16           [-1, 4]  1         0  models.common.Concat                    [1]                           \n",
            " 17                -1  1     90880  models.common.C3                        [256, 128, 1, False]          \n",
            " 18                -1  1    147712  models.common.Conv                      [128, 128, 3, 2]              \n",
            " 19          [-1, 14]  1         0  models.common.Concat                    [1]                           \n",
            " 20                -1  1    296448  models.common.C3                        [256, 256, 1, False]          \n",
            " 21                -1  1    590336  models.common.Conv                      [256, 256, 3, 2]              \n",
            " 22          [-1, 10]  1         0  models.common.Concat                    [1]                           \n",
            " 23                -1  1   1182720  models.common.C3                        [512, 512, 1, False]          \n",
            " 24      [17, 20, 23]  1     16182  models.yolo.Detect                      [1, [[10, 13, 16, 30, 33, 23], [30, 61, 62, 45, 59, 119], [116, 90, 156, 198, 373, 326]], [128, 256, 512]]\n",
            "Transferred 343/349 items from yolov5s.pt\n",
            "\u001b[34m\u001b[1mAMP: \u001b[0mchecks passed ✅\n",
            "\u001b[34m\u001b[1moptimizer:\u001b[0m SGD(lr=0.01) with parameter groups 57 weight(decay=0.0), 60 weight(decay=0.0005), 60 bias\n",
            "\u001b[34m\u001b[1malbumentations: \u001b[0mBlur(p=0.01, blur_limit=(3, 7)), MedianBlur(p=0.01, blur_limit=(3, 7)), ToGray(p=0.01), CLAHE(p=0.01, clip_limit=(1, 4.0), tile_grid_size=(8, 8))\n",
            "\u001b[34m\u001b[1mtrain: \u001b[0mScanning /content/datasets/digitalizare_note-1/train/labels.cache... 44 images, 0 backgrounds, 0 corrupt: 100% 44/44 [00:00<?, ?it/s]\n",
            "\u001b[34m\u001b[1mtrain: \u001b[0mCaching images (0.0GB ram): 100% 44/44 [00:00<00:00, 377.46it/s]\n",
            "\u001b[34m\u001b[1mval: \u001b[0mScanning /content/datasets/digitalizare_note-1/valid/labels.cache... 30 images, 0 backgrounds, 0 corrupt: 100% 30/30 [00:00<?, ?it/s]\n",
            "\u001b[34m\u001b[1mval: \u001b[0mCaching images (0.0GB ram): 100% 30/30 [00:00<00:00, 111.93it/s]\n",
            "\n",
            "\u001b[34m\u001b[1mAutoAnchor: \u001b[0m1.93 anchors/target, 1.000 Best Possible Recall (BPR). Current anchors are a good fit to dataset ✅\n",
            "Plotting labels to runs/train/exp3/labels.jpg... \n",
            "Image sizes 416 train, 416 val\n",
            "Using 2 dataloader workers\n",
            "Logging results to \u001b[1mruns/train/exp3\u001b[0m\n",
            "Starting training for 15 epochs...\n",
            "\n",
            "      Epoch    GPU_mem   box_loss   obj_loss   cls_loss  Instances       Size\n",
            "       0/14      1.71G     0.1006    0.02226          0        137        416: 100% 3/3 [00:02<00:00,  1.17it/s]\n",
            "                 Class     Images  Instances          P          R      mAP50   mAP50-95: 100% 1/1 [00:00<00:00,  2.08it/s]\n",
            "                   all         30        340    0.00344     0.0912    0.00204   0.000449\n",
            "\n",
            "      Epoch    GPU_mem   box_loss   obj_loss   cls_loss  Instances       Size\n",
            "       1/14      2.04G     0.1123    0.02277          0        159        416: 100% 3/3 [00:00<00:00,  4.50it/s]\n",
            "                 Class     Images  Instances          P          R      mAP50   mAP50-95: 100% 1/1 [00:00<00:00,  2.03it/s]\n",
            "                   all         30        340    0.00444      0.118    0.00272   0.000697\n",
            "\n",
            "      Epoch    GPU_mem   box_loss   obj_loss   cls_loss  Instances       Size\n",
            "       2/14      2.04G     0.1269    0.02277          0        134        416: 100% 3/3 [00:00<00:00,  3.37it/s]\n",
            "                 Class     Images  Instances          P          R      mAP50   mAP50-95: 100% 1/1 [00:00<00:00,  1.81it/s]\n",
            "                   all         30        340    0.00411      0.109     0.0026   0.000647\n",
            "\n",
            "      Epoch    GPU_mem   box_loss   obj_loss   cls_loss  Instances       Size\n",
            "       3/14      2.04G     0.1095    0.02465          0        160        416: 100% 3/3 [00:00<00:00,  3.07it/s]\n",
            "                 Class     Images  Instances          P          R      mAP50   mAP50-95: 100% 1/1 [00:00<00:00,  2.09it/s]\n",
            "                   all         30        340      0.004      0.106    0.00255   0.000532\n",
            "\n",
            "      Epoch    GPU_mem   box_loss   obj_loss   cls_loss  Instances       Size\n",
            "       4/14      2.04G    0.09459    0.02348          0        149        416: 100% 3/3 [00:00<00:00,  4.27it/s]\n",
            "                 Class     Images  Instances          P          R      mAP50   mAP50-95: 100% 1/1 [00:00<00:00,  2.90it/s]\n",
            "                   all         30        340    0.00122     0.0324    0.00073   0.000112\n",
            "\n",
            "      Epoch    GPU_mem   box_loss   obj_loss   cls_loss  Instances       Size\n",
            "       5/14      2.04G    0.09379    0.02416          0        129        416: 100% 3/3 [00:00<00:00,  5.11it/s]\n",
            "                 Class     Images  Instances          P          R      mAP50   mAP50-95: 100% 1/1 [00:00<00:00,  2.83it/s]\n",
            "                   all         30        340   0.000889     0.0235   0.000502   0.000105\n",
            "\n",
            "      Epoch    GPU_mem   box_loss   obj_loss   cls_loss  Instances       Size\n",
            "       6/14      2.04G    0.09349    0.02737          0        153        416: 100% 3/3 [00:00<00:00,  5.70it/s]\n",
            "                 Class     Images  Instances          P          R      mAP50   mAP50-95: 100% 1/1 [00:00<00:00,  2.78it/s]\n",
            "                   all         30        340   0.000667     0.0176   0.000405   6.36e-05\n",
            "\n",
            "      Epoch    GPU_mem   box_loss   obj_loss   cls_loss  Instances       Size\n",
            "       7/14      2.04G     0.1044    0.02546          0        105        416: 100% 3/3 [00:00<00:00,  5.97it/s]\n",
            "                 Class     Images  Instances          P          R      mAP50   mAP50-95: 100% 1/1 [00:00<00:00,  2.66it/s]\n",
            "                   all         30        340    0.00337    0.00294    0.00557   0.000591\n",
            "\n",
            "      Epoch    GPU_mem   box_loss   obj_loss   cls_loss  Instances       Size\n",
            "       8/14      2.04G    0.09199    0.02818          0        146        416: 100% 3/3 [00:00<00:00,  5.13it/s]\n",
            "                 Class     Images  Instances          P          R      mAP50   mAP50-95: 100% 1/1 [00:00<00:00,  2.95it/s]\n",
            "                   all         30        340      0.001     0.0265   0.000528   0.000122\n",
            "\n",
            "      Epoch    GPU_mem   box_loss   obj_loss   cls_loss  Instances       Size\n",
            "       9/14      2.04G     0.1013    0.02563          0        112        416: 100% 3/3 [00:00<00:00,  5.39it/s]\n",
            "                 Class     Images  Instances          P          R      mAP50   mAP50-95: 100% 1/1 [00:00<00:00,  2.82it/s]\n",
            "                   all         30        340   0.000889     0.0235   0.000462   0.000109\n",
            "\n",
            "      Epoch    GPU_mem   box_loss   obj_loss   cls_loss  Instances       Size\n",
            "      10/14      2.04G     0.1002    0.02736          0        114        416: 100% 3/3 [00:00<00:00,  5.13it/s]\n",
            "                 Class     Images  Instances          P          R      mAP50   mAP50-95: 100% 1/1 [00:00<00:00,  2.78it/s]\n",
            "                   all         30        340   0.000889     0.0235   0.000595   0.000124\n",
            "\n",
            "      Epoch    GPU_mem   box_loss   obj_loss   cls_loss  Instances       Size\n",
            "      11/14      2.04G     0.1126     0.0279          0        161        416: 100% 3/3 [00:00<00:00,  5.26it/s]\n",
            "                 Class     Images  Instances          P          R      mAP50   mAP50-95: 100% 1/1 [00:00<00:00,  2.70it/s]\n",
            "                   all         30        340    0.00122     0.0324   0.000685    0.00018\n",
            "\n",
            "      Epoch    GPU_mem   box_loss   obj_loss   cls_loss  Instances       Size\n",
            "      12/14      2.04G    0.08753    0.02896          0        176        416: 100% 3/3 [00:00<00:00,  5.07it/s]\n",
            "                 Class     Images  Instances          P          R      mAP50   mAP50-95: 100% 1/1 [00:00<00:00,  2.96it/s]\n",
            "                   all         30        340    0.00167     0.0441    0.00109   0.000243\n",
            "\n",
            "      Epoch    GPU_mem   box_loss   obj_loss   cls_loss  Instances       Size\n",
            "      13/14      2.04G    0.09814    0.02615          0        116        416: 100% 3/3 [00:00<00:00,  5.62it/s]\n",
            "                 Class     Images  Instances          P          R      mAP50   mAP50-95: 100% 1/1 [00:00<00:00,  2.91it/s]\n",
            "                   all         30        340    0.00167     0.0441   0.000954   0.000207\n",
            "\n",
            "      Epoch    GPU_mem   box_loss   obj_loss   cls_loss  Instances       Size\n",
            "      14/14      2.04G      0.102    0.02709          0        144        416: 100% 3/3 [00:00<00:00,  5.44it/s]\n",
            "                 Class     Images  Instances          P          R      mAP50   mAP50-95: 100% 1/1 [00:00<00:00,  2.95it/s]\n",
            "                   all         30        340    0.00289     0.0765    0.00228   0.000458\n",
            "\n",
            "15 epochs completed in 0.006 hours.\n",
            "Optimizer stripped from runs/train/exp3/weights/last.pt, 14.3MB\n",
            "Optimizer stripped from runs/train/exp3/weights/best.pt, 14.3MB\n",
            "\n",
            "Validating runs/train/exp3/weights/best.pt...\n",
            "Fusing layers... \n",
            "Model summary: 157 layers, 7012822 parameters, 0 gradients, 15.8 GFLOPs\n",
            "                 Class     Images  Instances          P          R      mAP50   mAP50-95: 100% 1/1 [00:00<00:00,  2.53it/s]\n",
            "                   all         30        340    0.00258    0.00294    0.00557   0.000602\n",
            "Results saved to \u001b[1mruns/train/exp3\u001b[0m\n"
          ]
        }
      ],
      "source": [
        "!python train.py --img {ROW_IMG_SIZE} --batch 16 --epochs 15 --data {dataset.location}/data.yaml --weights yolov5s.pt --cache"
      ]
    },
    {
      "cell_type": "markdown",
      "source": [
        "##Export weights"
      ],
      "metadata": {
        "id": "zE6NF5-IrfVw"
      }
    },
    {
      "cell_type": "code",
      "execution_count": null,
      "metadata": {
        "id": "7iiObB2WCMh6"
      },
      "outputs": [],
      "source": [
        "#export model's weights for future use\n",
        "files.download('./runs/train/exp/weights/best.pt')"
      ]
    },
    {
      "cell_type": "markdown",
      "metadata": {
        "id": "WkTsJg3IzIlI"
      },
      "source": [
        "#Score detection, clasification model"
      ]
    },
    {
      "cell_type": "markdown",
      "metadata": {
        "id": "Gdi3MSoGFkly"
      },
      "source": [
        "##Data generator"
      ]
    },
    {
      "cell_type": "code",
      "execution_count": null,
      "metadata": {
        "id": "f8-JFCr01VlA"
      },
      "outputs": [],
      "source": [
        "SIZE_KEY_NAME = len('20201104_175030')"
      ]
    },
    {
      "cell_type": "code",
      "execution_count": null,
      "metadata": {
        "id": "5OlE1jBRZUMD"
      },
      "outputs": [],
      "source": [
        "def cutImage(img, dict_obj_IO, width, height):\n",
        "  size_ = len(dict_obj_IO['x0'])\n",
        "\n",
        "  lst_img = []\n",
        "  for i in range(size_):\n",
        "    x0 = dict_obj_IO['x0'][i]\n",
        "    y0 = dict_obj_IO['y0'][i]\n",
        "    x1 = dict_obj_IO['x1'][i]\n",
        "    y1 = dict_obj_IO['y1'][i]\n",
        "    tmp_img = img[y0:y1, x0:x1]\n",
        "    tmp_img = cv2.resize(tmp_img, (width, height))\n",
        "    lst_img.append(tmp_img)\n",
        "  return lst_img\n",
        "\n",
        "def imageClassification(dict_obj_classified, path, lst_filename, width, height):\n",
        "  name_new_img = 0\n",
        "  for filename in lst_filename:\n",
        "    key_name = filename.split('/')[-1][:SIZE_KEY_NAME]\n",
        "    img = cv2.imread(filename)\n",
        "    lst_X = cutImage(img, dict_obj_classified[key_name], width, height)\n",
        "    lst_y = dict_obj_classified[key_name]['score']\n",
        "\n",
        "    for x, y in zip(lst_X, lst_y):\n",
        "      filename_clasification = '{}/{}/{}.png'.format(path, y, name_new_img)\n",
        "      cv2.imwrite(filename_clasification, x)\n",
        "      name_new_img += 1\n",
        "\n",
        "    "
      ]
    },
    {
      "cell_type": "code",
      "execution_count": null,
      "metadata": {
        "id": "IY4nNfLBLoy5"
      },
      "outputs": [],
      "source": [
        "#rm_path = '/content/datasets/clasification'\n",
        "#shutil.rmtree(rm_path)"
      ]
    },
    {
      "cell_type": "code",
      "execution_count": null,
      "metadata": {
        "id": "VYKMCa-TKiAR"
      },
      "outputs": [],
      "source": [
        "unique_score = getUniqueScore()"
      ]
    },
    {
      "cell_type": "code",
      "source": [
        "unique_score"
      ],
      "metadata": {
        "colab": {
          "base_uri": "https://localhost:8080/"
        },
        "id": "QPV_PG8sdMaC",
        "outputId": "17b4a470-70e8-4833-c233-b9c33ab9d172"
      },
      "execution_count": null,
      "outputs": [
        {
          "output_type": "execute_result",
          "data": {
            "text/plain": [
              "array(['0', '1', '2', '3', '4', '5', '6', 'L'], dtype='<U1')"
            ]
          },
          "metadata": {},
          "execution_count": 39
        }
      ]
    },
    {
      "cell_type": "code",
      "execution_count": null,
      "metadata": {
        "id": "XQnHBNuEbWY9"
      },
      "outputs": [],
      "source": [
        "path = '/content/datasets/digitalizare_note-1/train/images'\n",
        "ext = 'jpg'\n",
        "lst_filename = get_lst_file_by_ext(path, ext)\n",
        "#create directory of all class name of train data\n",
        "path = '/content/datasets/clasification/train'\n",
        "for score_ in unique_score:\n",
        "  tmp_path = '{}/{}'.format(path, score_)\n",
        "  createDirectory(tmp_path)\n",
        "\n",
        "imageClassification(dict_obj_classified_train, path, lst_filename, DECT_OBJ_IMG_WIDTH, DECT_OBJ_IMG_HEIGHT)"
      ]
    },
    {
      "cell_type": "code",
      "execution_count": null,
      "metadata": {
        "id": "UgC3Mm5tu5kV"
      },
      "outputs": [],
      "source": [
        "path = '/content/datasets/digitalizare_note-1/test/images'\n",
        "ext = 'jpg'\n",
        "lst_filename = get_lst_file_by_ext(path, ext)\n",
        "#create directory of all class name of test data\n",
        "path = '/content/datasets/clasification/test'\n",
        "for score_ in unique_score:\n",
        "  tmp_path = '{}/{}'.format(path, score_)\n",
        "  createDirectory(tmp_path)\n",
        "\n",
        "imageClassification(dict_obj_classified_test, path, lst_filename, DECT_OBJ_IMG_WIDTH, DECT_OBJ_IMG_HEIGHT)"
      ]
    },
    {
      "cell_type": "code",
      "execution_count": null,
      "metadata": {
        "id": "9rYxW5RFOr3a"
      },
      "outputs": [],
      "source": [
        "path = '/content/datasets/digitalizare_note-1/valid/images'\n",
        "ext = 'jpg'\n",
        "lst_filename = get_lst_file_by_ext(path, ext)\n",
        "#create directory of all class name of valid data\n",
        "path = '/content/datasets/clasification/valid'\n",
        "for score_ in unique_score:\n",
        "  tmp_path = '{}/{}'.format(path, score_)\n",
        "  createDirectory(tmp_path)\n",
        "\n",
        "imageClassification(dict_obj_classified_valid, path, lst_filename, DECT_OBJ_IMG_WIDTH, DECT_OBJ_IMG_HEIGHT)"
      ]
    },
    {
      "cell_type": "markdown",
      "metadata": {
        "id": "TAtol7cVIQNh"
      },
      "source": [
        "##Upload train and test data"
      ]
    },
    {
      "cell_type": "code",
      "execution_count": null,
      "metadata": {
        "id": "7i8CbCj6fzbl"
      },
      "outputs": [],
      "source": [
        "import pathlib"
      ]
    },
    {
      "cell_type": "code",
      "execution_count": null,
      "metadata": {
        "id": "57CcilYSG0zv"
      },
      "outputs": [],
      "source": [
        "train_dir = '/content/datasets/clasification/train'\n",
        "train_dir = pathlib.Path(train_dir)"
      ]
    },
    {
      "cell_type": "code",
      "execution_count": null,
      "metadata": {
        "id": "GgjF6nl8pNog"
      },
      "outputs": [],
      "source": [
        "test_dir = '/content/datasets/clasification/test'\n",
        "test_dir = pathlib.Path(test_dir)"
      ]
    },
    {
      "cell_type": "code",
      "execution_count": null,
      "metadata": {
        "colab": {
          "base_uri": "https://localhost:8080/"
        },
        "id": "SbtTDYhOHZb6",
        "outputId": "b65e0d83-3931-46e4-94cf-3ffbc00c49ff"
      },
      "outputs": [
        {
          "output_type": "stream",
          "name": "stdout",
          "text": [
            "Number of train image 231077\n"
          ]
        }
      ],
      "source": [
        "image_count = len(list(train_dir.glob('*/*.png')))\n",
        "print('Number of train image {}'.format(image_count))"
      ]
    },
    {
      "cell_type": "code",
      "execution_count": null,
      "metadata": {
        "colab": {
          "base_uri": "https://localhost:8080/"
        },
        "id": "7RGCnDUbhgkY",
        "outputId": "61e76e93-a8ec-4a3e-cac4-45d15414e4d8"
      },
      "outputs": [
        {
          "output_type": "stream",
          "name": "stdout",
          "text": [
            "Number of test image 18921\n"
          ]
        }
      ],
      "source": [
        "image_count = len(list(test_dir.glob('*/*.png')))\n",
        "print('Number of test image {}'.format(image_count))"
      ]
    },
    {
      "cell_type": "markdown",
      "metadata": {
        "id": "pFBhRrrEI49z"
      },
      "source": [
        "Split data in test and validation"
      ]
    },
    {
      "cell_type": "code",
      "execution_count": null,
      "metadata": {
        "colab": {
          "base_uri": "https://localhost:8080/"
        },
        "id": "fIR0kRZiI_AT",
        "outputId": "91cd51bf-360b-43bd-c2be-308700c28b51"
      },
      "outputs": [
        {
          "output_type": "stream",
          "name": "stdout",
          "text": [
            "Found 231077 files belonging to 8 classes.\n"
          ]
        }
      ],
      "source": [
        "train_ds = tf.keras.utils.image_dataset_from_directory(\n",
        "  train_dir,\n",
        "  image_size=(img_height, img_width),\n",
        "  shuffle=True,\n",
        "  seed=12534,\n",
        "  batch_size=batch_size,\n",
        "  label_mode='categorical',\n",
        "  color_mode='rgb')"
      ]
    },
    {
      "cell_type": "code",
      "execution_count": null,
      "metadata": {
        "colab": {
          "base_uri": "https://localhost:8080/"
        },
        "id": "iscU3UoVJBXj",
        "outputId": "1c2aad58-2c0e-44e2-f4b0-cd3e39865fe4"
      },
      "outputs": [
        {
          "output_type": "stream",
          "name": "stdout",
          "text": [
            "Found 18921 files belonging to 8 classes.\n"
          ]
        }
      ],
      "source": [
        "val_ds = tf.keras.utils.image_dataset_from_directory(\n",
        "  test_dir,\n",
        "  image_size=(img_height, img_width),\n",
        "  shuffle=True,\n",
        "  seed=42,\n",
        "  batch_size=batch_size,\n",
        "  label_mode='categorical',\n",
        "  color_mode='rgb')"
      ]
    },
    {
      "cell_type": "markdown",
      "metadata": {
        "id": "WLQULyAvJC3X"
      },
      "source": [
        "We can find the class names in the `class_names` attribute on these datasets. These correspond to the directory names in alphabetical order."
      ]
    },
    {
      "cell_type": "code",
      "execution_count": null,
      "metadata": {
        "colab": {
          "base_uri": "https://localhost:8080/"
        },
        "id": "ZHAxkHX5JD3k",
        "outputId": "906c18cc-1f56-4440-99bd-fee3c5291495"
      },
      "outputs": [
        {
          "output_type": "stream",
          "name": "stdout",
          "text": [
            "['0', '1', '2', '3', '4', '5', '6', 'L']\n"
          ]
        }
      ],
      "source": [
        "class_names = train_ds.class_names\n",
        "print(class_names) #show all class name"
      ]
    },
    {
      "cell_type": "markdown",
      "metadata": {
        "id": "pvYjSIKvoil8"
      },
      "source": [
        "##Build Model"
      ]
    },
    {
      "cell_type": "markdown",
      "metadata": {
        "id": "URloXYLV-IhL"
      },
      "source": [
        "\n",
        "### Create the model"
      ]
    },
    {
      "cell_type": "code",
      "execution_count": null,
      "metadata": {
        "id": "QR6argA1K074"
      },
      "outputs": [],
      "source": [
        "num_classes = len(class_names)\n",
        "\n",
        "input = Input(\n",
        "              shape=(DECT_OBJ_IMG_WIDTH, DECT_OBJ_IMG_HEIGHT, DECT_OBJ_IMG_CHANNEL),\n",
        "              name='Input',\n",
        "              dtype=np.uint8\n",
        "              )\n",
        "#We will standardize values to be in the [0, 1] range by using tf.keras.layers.Rescaling\n",
        "x = layers.Rescaling(1./255, \n",
        "                     input_shape=(DECT_OBJ_IMG_WIDTH, DECT_OBJ_IMG_HEIGHT, DECT_OBJ_IMG_CHANNEL))(input)\n",
        "x = layers.Conv2D(128, 3, padding='same', activation='relu')(x)\n",
        "x = layers.MaxPool2D(pool_size=(2, 2), strides=2, padding='valid')(x)\n",
        "x = layers.Conv2D(128, 3, padding='same', activation='relu')(x)\n",
        "x = layers.BatchNormalization()(x)\n",
        "x = layers.Conv2D(64, 3, padding='same', activation='relu')(x)\n",
        "x = layers.Dropout(rate=0.2)(x)\n",
        "x = layers.Conv2D(64, 3, padding='same', activation='relu')(x)\n",
        "x = layers.MaxPool2D(pool_size=(2, 2), strides=2, padding='valid')(x)\n",
        "x = layers.BatchNormalization()(x)\n",
        "x = layers.Flatten()(x)\n",
        "x = layers.Dropout(rate=0.2)(x)\n",
        "x = layers.Dense(num_classes * 2, activation='relu')(x)\n",
        "x = layers.BatchNormalization()(x)\n",
        "output = layers.Dense(num_classes, activation='softmax')(x)\n"
      ]
    },
    {
      "cell_type": "code",
      "execution_count": null,
      "metadata": {
        "id": "3mHdtZH-NHnb"
      },
      "outputs": [],
      "source": [
        "#create model\n",
        "model = Model(input, output)"
      ]
    },
    {
      "cell_type": "markdown",
      "metadata": {
        "id": "EaKFzz72Lqpg"
      },
      "source": [
        "### Compile the model\n",
        "\n",
        "We will, use the `adam` optimizer and `categorical_crossentropy` loss function."
      ]
    },
    {
      "cell_type": "code",
      "execution_count": null,
      "metadata": {
        "id": "jloGNS1MLx3A"
      },
      "outputs": [],
      "source": [
        "model.compile(optimizer='adam', \n",
        "              loss='categorical_crossentropy', metrics=['accuracy'])"
      ]
    },
    {
      "cell_type": "markdown",
      "metadata": {
        "id": "aMJ4DnuJL55A"
      },
      "source": [
        "### Model summary\n",
        "\n",
        "View all the layers of the network using the Keras `Model.summary` method:"
      ]
    },
    {
      "cell_type": "code",
      "execution_count": null,
      "metadata": {
        "colab": {
          "base_uri": "https://localhost:8080/"
        },
        "id": "llLYH-BXL7Xe",
        "outputId": "50f7bda9-e2b2-4131-f4aa-474ae1311ccc"
      },
      "outputs": [
        {
          "output_type": "stream",
          "name": "stdout",
          "text": [
            "Model: \"model_3\"\n",
            "_________________________________________________________________\n",
            " Layer (type)                Output Shape              Param #   \n",
            "=================================================================\n",
            " Input (InputLayer)          [(None, 20, 110, 3)]      0         \n",
            "                                                                 \n",
            " rescaling_3 (Rescaling)     (None, 20, 110, 3)        0         \n",
            "                                                                 \n",
            " conv2d_12 (Conv2D)          (None, 20, 110, 128)      3584      \n",
            "                                                                 \n",
            " max_pooling2d_6 (MaxPooling  (None, 10, 55, 128)      0         \n",
            " 2D)                                                             \n",
            "                                                                 \n",
            " conv2d_13 (Conv2D)          (None, 10, 55, 128)       147584    \n",
            "                                                                 \n",
            " batch_normalization_9 (Batc  (None, 10, 55, 128)      512       \n",
            " hNormalization)                                                 \n",
            "                                                                 \n",
            " conv2d_14 (Conv2D)          (None, 10, 55, 64)        73792     \n",
            "                                                                 \n",
            " dropout_6 (Dropout)         (None, 10, 55, 64)        0         \n",
            "                                                                 \n",
            " conv2d_15 (Conv2D)          (None, 10, 55, 64)        36928     \n",
            "                                                                 \n",
            " max_pooling2d_7 (MaxPooling  (None, 5, 27, 64)        0         \n",
            " 2D)                                                             \n",
            "                                                                 \n",
            " batch_normalization_10 (Bat  (None, 5, 27, 64)        256       \n",
            " chNormalization)                                                \n",
            "                                                                 \n",
            " flatten_3 (Flatten)         (None, 8640)              0         \n",
            "                                                                 \n",
            " dropout_7 (Dropout)         (None, 8640)              0         \n",
            "                                                                 \n",
            " dense_6 (Dense)             (None, 16)                138256    \n",
            "                                                                 \n",
            " batch_normalization_11 (Bat  (None, 16)               64        \n",
            " chNormalization)                                                \n",
            "                                                                 \n",
            " dense_7 (Dense)             (None, 8)                 136       \n",
            "                                                                 \n",
            "=================================================================\n",
            "Total params: 401,112\n",
            "Trainable params: 400,696\n",
            "Non-trainable params: 416\n",
            "_________________________________________________________________\n"
          ]
        }
      ],
      "source": [
        "model.summary()"
      ]
    },
    {
      "cell_type": "markdown",
      "metadata": {
        "id": "NiYHcbvaL9H-"
      },
      "source": [
        "### Train and visualize the model results"
      ]
    },
    {
      "cell_type": "code",
      "execution_count": null,
      "metadata": {
        "colab": {
          "base_uri": "https://localhost:8080/",
          "height": 707
        },
        "id": "5fWToCqYMErH",
        "outputId": "463551b1-a88a-4b48-ab31-f24dd816d5f7"
      },
      "outputs": [
        {
          "output_type": "display_data",
          "data": {
            "text/plain": [
              "<Figure size 864x576 with 2 Axes>"
            ],
            "image/png": "[encoded data removed]"
          },
          "metadata": {
            "needs_background": "light"
          }
        },
        {
          "output_type": "stream",
          "name": "stdout",
          "text": [
            "accuracy\n",
            "\ttraining         \t (min:    0.987, max:    0.993, cur:    0.993)\n",
            "\tvalidation       \t (min:    0.566, max:    0.770, cur:    0.742)\n",
            "Loss\n",
            "\ttraining         \t (min:    0.021, max:    0.042, cur:    0.021)\n",
            "\tvalidation       \t (min:    1.220, max:    5.663, cur:    1.508)\n",
            "\b\b\b\b\b\b\b\b\b\b\b\b\b\b\b\b\b\b\b\b\b\b\b\b\b\b\b\b\b\b\b\b\b\b\b\b\b\b\b\b\b\b\b\b\b\b\b\b\b\b\b\b\b\b\b\b\b\b\b\b\b\b\b\b\b\b\b\b\b\b\b\b\b\b\b\b\b\b\b\b\b\b\b\b\b\b\b\b\r23108/23108 [==============================] - 196s 8ms/step - loss: 0.0213 - accuracy: 0.9933 - val_loss: 1.5079 - val_accuracy: 0.7417\n"
          ]
        }
      ],
      "source": [
        "epochs=20\n",
        "history = model.fit(\n",
        "  train_ds,\n",
        "  validation_data=val_ds,\n",
        "  epochs=epochs,\n",
        "  callbacks=[PlotLossesKerasTF()]\n",
        ")"
      ]
    },
    {
      "cell_type": "code",
      "source": [
        "#Save model\n",
        "\n",
        "filepath = '/content/datasets/clasification/model/score_detect_classifier'\n",
        "model.save(filepath)\n",
        "\n",
        "dir_name = '/content/datasets/clasification/model'\n",
        "output_filename = '/content/datasets/clasification/model'\n",
        "shutil.make_archive(output_filename, 'zip', dir_name)\n",
        "\n",
        "#export model's weights for future use\n",
        "files.download('/content/datasets/clasification/model.zip')"
      ],
      "metadata": {
        "colab": {
          "base_uri": "https://localhost:8080/",
          "height": 72
        },
        "id": "M6CHXWXY9RUX",
        "outputId": "512b48ac-5a58-4c80-cd8d-e327d7cc922b"
      },
      "execution_count": null,
      "outputs": [
        {
          "output_type": "stream",
          "name": "stderr",
          "text": [
            "WARNING:absl:Function `_wrapped_model` contains input name(s) Input with unsupported characters which will be renamed to input in the SavedModel.\n",
            "WARNING:absl:Found untraced functions such as _jit_compiled_convolution_op, _jit_compiled_convolution_op, _jit_compiled_convolution_op, _jit_compiled_convolution_op while saving (showing 4 of 4). These functions will not be directly callable after loading.\n"
          ]
        },
        {
          "output_type": "display_data",
          "data": {
            "text/plain": [
              "<IPython.core.display.Javascript object>"
            ],
            "application/javascript": [
              "\n",
              "    async function download(id, filename, size) {\n",
              "      if (!google.colab.kernel.accessAllowed) {\n",
              "        return;\n",
              "      }\n",
              "      const div = document.createElement('div');\n",
              "      const label = document.createElement('label');\n",
              "      label.textContent = `Downloading \"${filename}\": `;\n",
              "      div.appendChild(label);\n",
              "      const progress = document.createElement('progress');\n",
              "      progress.max = size;\n",
              "      div.appendChild(progress);\n",
              "      document.body.appendChild(div);\n",
              "\n",
              "      const buffers = [];\n",
              "      let downloaded = 0;\n",
              "\n",
              "      const channel = await google.colab.kernel.comms.open(id);\n",
              "      // Send a message to notify the kernel that we're ready.\n",
              "      channel.send({})\n",
              "\n",
              "      for await (const message of channel.messages) {\n",
              "        // Send a message to notify the kernel that we're ready.\n",
              "        channel.send({})\n",
              "        if (message.buffers) {\n",
              "          for (const buffer of message.buffers) {\n",
              "            buffers.push(buffer);\n",
              "            downloaded += buffer.byteLength;\n",
              "            progress.value = downloaded;\n",
              "          }\n",
              "        }\n",
              "      }\n",
              "      const blob = new Blob(buffers, {type: 'application/binary'});\n",
              "      const a = document.createElement('a');\n",
              "      a.href = window.URL.createObjectURL(blob);\n",
              "      a.download = filename;\n",
              "      div.appendChild(a);\n",
              "      a.click();\n",
              "      div.remove();\n",
              "    }\n",
              "  "
            ]
          },
          "metadata": {}
        },
        {
          "output_type": "display_data",
          "data": {
            "text/plain": [
              "<IPython.core.display.Javascript object>"
            ],
            "application/javascript": [
              "download(\"download_1f856abe-b683-4907-a81c-1a6ccc25c2e7\", \"model.zip\", 3420734)"
            ]
          },
          "metadata": {}
        }
      ]
    },
    {
      "cell_type": "code",
      "source": [
        "model_test.evaluate(val_ds)"
      ],
      "metadata": {
        "colab": {
          "base_uri": "https://localhost:8080/"
        },
        "id": "gvc_TKxLLznT",
        "outputId": "858c4b19-1b03-4fb0-c536-d547ad428092"
      },
      "execution_count": null,
      "outputs": [
        {
          "output_type": "stream",
          "name": "stdout",
          "text": [
            "1893/1893 [==============================] - 12s 6ms/step - loss: 1.5079 - accuracy: 0.7417\n"
          ]
        },
        {
          "output_type": "execute_result",
          "data": {
            "text/plain": [
              "[1.507864236831665, 0.7417155504226685]"
            ]
          },
          "metadata": {},
          "execution_count": 99
        }
      ]
    }
  ],
  "metadata": {
    "accelerator": "GPU",
    "colab": {
      "collapsed_sections": [
        "yNveqeA1KXGy",
        "Ke8C3U0JID_D",
        "Tqa3d1pb-pFQ",
        "zP6USLgz2f0r",
        "Dq-4iLwP97TU",
        "YT3cWAuLRYvr",
        "X7yAi9hd-T4B",
        "AcIRLQOlA14A",
        "jtmS7_TXFsT3",
        "Gdi3MSoGFkly",
        "xyDNn9MbIzfT",
        "TAtol7cVIQNh",
        "EaKFzz72Lqpg",
        "aMJ4DnuJL55A"
      ],
      "provenance": []
    },
    "kernelspec": {
      "display_name": "Python 3",
      "name": "python3"
    },
    "language_info": {
      "name": "python"
    }
  },
  "nbformat": 4,
  "nbformat_minor": 0
}